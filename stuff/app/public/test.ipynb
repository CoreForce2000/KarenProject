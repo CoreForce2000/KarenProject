{
 "cells": [
  {
   "cell_type": "code",
   "execution_count": 10,
   "metadata": {},
   "outputs": [],
   "source": [
    "import os\n",
    "\n",
    "index = {}\n",
    "\n",
    "for path, subdirs, files in os.walk(\"images_chosen\"):\n",
    "    l = []\n",
    "    for name in files:\n",
    "        l.append(name)\n",
    "    \n",
    "    if \"\\\\\" in path:\n",
    "        index[path.split(\"\\\\\")[1]] = l"
   ]
  },
  {
   "cell_type": "code",
   "execution_count": null,
   "metadata": {},
   "outputs": [],
   "source": [
    "i=7\n",
    "\n",
    "print(list(index.keys())[i])\n",
    "index[list(index.keys())[i]]"
   ]
  },
  {
   "cell_type": "code",
   "execution_count": 8,
   "metadata": {},
   "outputs": [],
   "source": []
  },
  {
   "cell_type": "code",
   "execution_count": 1,
   "metadata": {},
   "outputs": [
    {
     "name": "stdout",
     "output_type": "stream",
     "text": [
      "['https://img.alicdn.com/imgextra/i4/O1CN01YSTqEI1rJQj1A1uAu_!!6000000005610-55-tps-32-32.svg', 'https://img.alicdn.com/imgextra/i3/O1CN01Od36Rm1BzpXWEmeis_!!6000000000017-2-tps-32-32.png', 'https://s.alicdn.com/@sc04/kf/H3ce72ee8dfbe4de59f7926b3da31c293t/258597008/H3ce72ee8dfbe4de59f7926b3da31c293t.jpg', 'https://s.alicdn.com/@sc04/kf/H80ee3dbfe3304762b965f9cbea01c9bdA/258597008/H80ee3dbfe3304762b965f9cbea01c9bdA.jpg', 'https://s.alicdn.com/@img/imgextra/i2/O1CN01YDryn81prCbNwab4Q_!!6000000005413-2-tps-168-42.png', '//s.alicdn.com/@sc04/kf/Hba0e52fba91240359d3735fc76bcf4144.jpg_300x300.jpg', '//s.alicdn.com/@sc04/kf/H3ec5b2baf08f48f4a4516f864aad98f7P.jpg_300x300.jpg', '//s.alicdn.com/@sc04/kf/H38c0588223064967bb09f6ff3cc7ab1fX.jpg_300x300.jpg', '//s.alicdn.com/@sc04/kf/H2e2dacec8ed44190bc77929b677e32aeZ.jpg_300x300.jpg', '//s.alicdn.com/@sc04/kf/H017a6e66b24e4d6c91623dcaf226c231h.jpg_300x300.jpg', '//s.alicdn.com/@sc04/kf/Hccd45d0f4c354f5eb1c6baf2ac73f21bM.jpg_300x300.jpg', '//s.alicdn.com/@sc04/kf/Hb7d46746dd2041c7a583b0f7783047104.jpg_300x300.jpg', '//s.alicdn.com/@sc04/kf/H980e357fa52546aab02338d5114db8892.jpg_300x300.jpg', '//s.alicdn.com/@sc04/kf/Hb7ad009bac7147e5a2c2da59e8329ed3s.jpg_300x300.jpg', 'https://s.alicdn.com/@img/imgextra/i2/O1CN01YDryn81prCbNwab4Q_!!6000000005413-2-tps-168-42.png', '//img.alicdn.com/tfs/TB1S_7kkY5YBuNjSspoXXbeNFXa-700-700.jpg_350x350.jpg', '//img.alicdn.com/tfs/TB1S_7kkY5YBuNjSspoXXbeNFXa-700-700.jpg_350x350.jpg', '//img.alicdn.com/tfs/TB1S_7kkY5YBuNjSspoXXbeNFXa-700-700.jpg_350x350.jpg', 'https://img.alicdn.com/tfs/TB1VtZtebH1gK0jSZFwXXc7aXXa-65-70.gif', 'https://img.alicdn.com/tfs/TB1QhYprKT2gK0jSZFvXXXnFXXa-20-20.png']\n",
      "Error - Invalid URL '//s.alicdn.com/@sc04/kf/Hba0e52fba91240359d3735fc76bcf4144.jpg_300x300.jpg': No scheme supplied. Perhaps you meant https:////s.alicdn.com/@sc04/kf/Hba0e52fba91240359d3735fc76bcf4144.jpg_300x300.jpg?\n",
      "Error - Invalid URL '//s.alicdn.com/@sc04/kf/H3ec5b2baf08f48f4a4516f864aad98f7P.jpg_300x300.jpg': No scheme supplied. Perhaps you meant https:////s.alicdn.com/@sc04/kf/H3ec5b2baf08f48f4a4516f864aad98f7P.jpg_300x300.jpg?\n",
      "Error - Invalid URL '//s.alicdn.com/@sc04/kf/H38c0588223064967bb09f6ff3cc7ab1fX.jpg_300x300.jpg': No scheme supplied. Perhaps you meant https:////s.alicdn.com/@sc04/kf/H38c0588223064967bb09f6ff3cc7ab1fX.jpg_300x300.jpg?\n",
      "Error - Invalid URL '//s.alicdn.com/@sc04/kf/H2e2dacec8ed44190bc77929b677e32aeZ.jpg_300x300.jpg': No scheme supplied. Perhaps you meant https:////s.alicdn.com/@sc04/kf/H2e2dacec8ed44190bc77929b677e32aeZ.jpg_300x300.jpg?\n",
      "Error - Invalid URL '//s.alicdn.com/@sc04/kf/H017a6e66b24e4d6c91623dcaf226c231h.jpg_300x300.jpg': No scheme supplied. Perhaps you meant https:////s.alicdn.com/@sc04/kf/H017a6e66b24e4d6c91623dcaf226c231h.jpg_300x300.jpg?\n",
      "Error - Invalid URL '//s.alicdn.com/@sc04/kf/Hccd45d0f4c354f5eb1c6baf2ac73f21bM.jpg_300x300.jpg': No scheme supplied. Perhaps you meant https:////s.alicdn.com/@sc04/kf/Hccd45d0f4c354f5eb1c6baf2ac73f21bM.jpg_300x300.jpg?\n",
      "Error - Invalid URL '//s.alicdn.com/@sc04/kf/Hb7d46746dd2041c7a583b0f7783047104.jpg_300x300.jpg': No scheme supplied. Perhaps you meant https:////s.alicdn.com/@sc04/kf/Hb7d46746dd2041c7a583b0f7783047104.jpg_300x300.jpg?\n",
      "Error - Invalid URL '//s.alicdn.com/@sc04/kf/H980e357fa52546aab02338d5114db8892.jpg_300x300.jpg': No scheme supplied. Perhaps you meant https:////s.alicdn.com/@sc04/kf/H980e357fa52546aab02338d5114db8892.jpg_300x300.jpg?\n",
      "Error - Invalid URL '//s.alicdn.com/@sc04/kf/Hb7ad009bac7147e5a2c2da59e8329ed3s.jpg_300x300.jpg': No scheme supplied. Perhaps you meant https:////s.alicdn.com/@sc04/kf/Hb7ad009bac7147e5a2c2da59e8329ed3s.jpg_300x300.jpg?\n",
      "Error - Invalid URL '//img.alicdn.com/tfs/TB1S_7kkY5YBuNjSspoXXbeNFXa-700-700.jpg_350x350.jpg': No scheme supplied. Perhaps you meant https:////img.alicdn.com/tfs/TB1S_7kkY5YBuNjSspoXXbeNFXa-700-700.jpg_350x350.jpg?\n",
      "Error - Invalid URL '//img.alicdn.com/tfs/TB1S_7kkY5YBuNjSspoXXbeNFXa-700-700.jpg_350x350.jpg': No scheme supplied. Perhaps you meant https:////img.alicdn.com/tfs/TB1S_7kkY5YBuNjSspoXXbeNFXa-700-700.jpg_350x350.jpg?\n",
      "Error - Invalid URL '//img.alicdn.com/tfs/TB1S_7kkY5YBuNjSspoXXbeNFXa-700-700.jpg_350x350.jpg': No scheme supplied. Perhaps you meant https:////img.alicdn.com/tfs/TB1S_7kkY5YBuNjSspoXXbeNFXa-700-700.jpg_350x350.jpg?\n"
     ]
    }
   ],
   "source": [
    "import webcrawler\n",
    "\n",
    "webcrawler.scrape_images(\"hardware\", \"hammer\", 20)"
   ]
  },
  {
   "cell_type": "code",
   "execution_count": null,
   "metadata": {},
   "outputs": [],
   "source": []
  },
  {
   "cell_type": "code",
   "execution_count": 19,
   "metadata": {},
   "outputs": [
    {
     "data": {
      "text/plain": [
       "['Apparel',\n",
       " 'Beauty',\n",
       " 'Electronics',\n",
       " 'Furniture',\n",
       " 'Games and Toys',\n",
       " 'Jewlery',\n",
       " 'Sport',\n",
       " 'Tools']"
      ]
     },
     "execution_count": 19,
     "metadata": {},
     "output_type": "execute_result"
    }
   ],
   "source": []
  },
  {
   "cell_type": "code",
   "execution_count": null,
   "metadata": {},
   "outputs": [],
   "source": []
  }
 ],
 "metadata": {
  "kernelspec": {
   "display_name": "Python 3",
   "language": "python",
   "name": "python3"
  },
  "language_info": {
   "codemirror_mode": {
    "name": "ipython",
    "version": 3
   },
   "file_extension": ".py",
   "mimetype": "text/x-python",
   "name": "python",
   "nbconvert_exporter": "python",
   "pygments_lexer": "ipython3",
   "version": "3.10.11"
  },
  "orig_nbformat": 4
 },
 "nbformat": 4,
 "nbformat_minor": 2
}
